{
 "cells": [
  {
   "cell_type": "code",
   "execution_count": 3,
   "metadata": {},
   "outputs": [],
   "source": [
    "import requests\n",
    "import json\n",
    "import csv\n",
    "import numpy as np\n",
    "import pandas as pd\n",
    "\n",
    "#Set up URL and API call\n",
    "base_url = \"https://npiregistry.cms.hhs.gov/api/?version=2.1\"\n",
    "# params1 = {\"state\": \"IL\", \"taxonomy_description\": \"Community/Retail Pharmacy\"}\n",
    "taxonomy_description = \"Community/Retail Pharmacy\"\n",
    "states = [\"IL\", \"IN\", \"MI\", \"IA\", \"MO\", \"OH\", \"ND\", \"SD\", \"NE\", \"KS\",\"MN\",\"WI\",\"AL\",\"AK\",\"AZ\",\"AR\",\"CA\",\"CO\",\"CT\",\"DE\",\"FL\",\"GA\",\"HI\",\"ID\",\"KY\",\"LA\",\"MD\",\"ME\",\"MA\",\"MS\",\"MT\",\"NV\",\"NH\",\"NJ\",\"NM\",\"NY\",\"NC\",\"OK\",\"OR\",\"PA\",\"RI\",\"SC\",\"TN\",\"TX\",\"UT\",\"VT\",\"VA\",\"WA\",\"WV\",\"WY\"]\n",
    "#states = [\"IL\", \"IN\", \"MI\", \"IA\", \"MO\", \"OH\", \"ND\", \"SD\", \"NE\", \"KS\",\"MN\",\"WI\"]\n",
    "n_state=len(states)"
   ]
  },
  {
   "cell_type": "code",
   "execution_count": 4,
   "metadata": {},
   "outputs": [
    {
     "data": {
      "text/plain": [
       "50"
      ]
     },
     "execution_count": 4,
     "metadata": {},
     "output_type": "execute_result"
    }
   ],
   "source": [
    "n_state"
   ]
  },
  {
   "cell_type": "code",
   "execution_count": 5,
   "metadata": {},
   "outputs": [],
   "source": [
    "# Create list to store data\n",
    "st=[]\n",
    "name = []\n",
    "address = []\n",
    "city = []\n",
    "statelist = []\n",
    "zipcode = []\n",
    "\n",
    "pharmaName = []\n",
    "pharmaAddress = []\n",
    "pharmaCity = []\n",
    "pharmaState = []\n",
    "pharmaZip = []"
   ]
  },
  {
   "cell_type": "code",
   "execution_count": 6,
   "metadata": {},
   "outputs": [],
   "source": [
    "for state in states:\n",
    "\n",
    "    for skip in range(0,1200,200):\n",
    "        pharma_query_url = f'{base_url}&state={state}&taxonomy_description={taxonomy_description}&limit=200&skip={skip}'\n",
    "        response = requests.get(pharma_query_url).json()\n",
    "        res = response['results']\n",
    "        st.append(res)\n",
    "        for i in range(len(res)):\n",
    "            x = res[i]\n",
    "            pharmaName.append(x['basic']['name'])\n",
    "            pharmaAddress.append(x[\"addresses\"][0][\"address_1\"])\n",
    "            pharmaCity.append(x[\"addresses\"][0][\"city\"])\n",
    "            pharmaState.append(x[\"addresses\"][0][\"state\"])\n",
    "            pharmaZip.append(x[\"addresses\"][0][\"postal_code\"])\n",
    "\n",
    "\n",
    "        #counter += 1\n",
    "       # print(f'Processing Record {counter} of {state}')\n",
    "    #except KeyError:\n",
    "        #print('Missing data, move on to next')"
   ]
  },
  {
   "cell_type": "code",
   "execution_count": 13,
   "metadata": {},
   "outputs": [],
   "source": [
    "pharma_df=pd.DataFrame({\n",
    "        \"Name\": pharmaName,\n",
    "    \"Address\": pharmaAddress,\n",
    "    \"City\": pharmaCity,\n",
    "    \"State\": pharmaState,\n",
    "    \"Zip Code\": pharmaZip   \n",
    "})"
   ]
  },
  {
   "cell_type": "code",
   "execution_count": 14,
   "metadata": {},
   "outputs": [],
   "source": [
    "df=pharma_df.copy()"
   ]
  },
  {
   "cell_type": "code",
   "execution_count": 15,
   "metadata": {},
   "outputs": [
    {
     "data": {
      "text/plain": [
       "45903"
      ]
     },
     "execution_count": 15,
     "metadata": {},
     "output_type": "execute_result"
    }
   ],
   "source": [
    "len(df)"
   ]
  },
  {
   "cell_type": "code",
   "execution_count": 11,
   "metadata": {},
   "outputs": [
    {
     "data": {
      "text/plain": [
       "45867"
      ]
     },
     "execution_count": 11,
     "metadata": {},
     "output_type": "execute_result"
    }
   ],
   "source": [
    "len(df)"
   ]
  },
  {
   "cell_type": "code",
   "execution_count": 12,
   "metadata": {},
   "outputs": [
    {
     "data": {
      "text/plain": [
       "CA    2315\n",
       "TX    1838\n",
       "GA    1469\n",
       "FL    1431\n",
       "VA    1399\n",
       "OH    1397\n",
       "AZ    1390\n",
       "NY    1388\n",
       "NJ    1369\n",
       "MI    1365\n",
       "MD    1334\n",
       "TN    1333\n",
       "AL    1332\n",
       "IN    1329\n",
       "WI    1327\n",
       "NC    1298\n",
       "MO    1287\n",
       "LA    1280\n",
       "KY    1253\n",
       "MN    1191\n",
       "SC    1189\n",
       "OK    1163\n",
       "CO    1154\n",
       "MS    1000\n",
       "WA     993\n",
       "CT     963\n",
       "IA     890\n",
       "KS     881\n",
       "IL     880\n",
       "OR     871\n",
       "PA     815\n",
       "WV     716\n",
       "NV     672\n",
       "UT     659\n",
       "NE     611\n",
       "ME     447\n",
       "NM     428\n",
       "MA     390\n",
       "NH     365\n",
       "MT     335\n",
       "HI     323\n",
       "ID     313\n",
       "DE     262\n",
       "SD     241\n",
       "ND     235\n",
       "VT     219\n",
       "WY     178\n",
       "AK     167\n",
       "AR     151\n",
       "RI      25\n",
       "PR       4\n",
       "DC       2\n",
       "Name: State, dtype: int64"
      ]
     },
     "execution_count": 12,
     "metadata": {},
     "output_type": "execute_result"
    }
   ],
   "source": [
    "df['State'].value_counts()"
   ]
  },
  {
   "cell_type": "code",
   "execution_count": null,
   "metadata": {},
   "outputs": [],
   "source": []
  }
 ],
 "metadata": {
  "kernelspec": {
   "display_name": "Python 3",
   "language": "python",
   "name": "python3"
  },
  "language_info": {
   "codemirror_mode": {
    "name": "ipython",
    "version": 3
   },
   "file_extension": ".py",
   "mimetype": "text/x-python",
   "name": "python",
   "nbconvert_exporter": "python",
   "pygments_lexer": "ipython3",
   "version": "3.7.4"
  }
 },
 "nbformat": 4,
 "nbformat_minor": 2
}
